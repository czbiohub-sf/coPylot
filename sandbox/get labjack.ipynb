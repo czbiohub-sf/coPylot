{
 "cells": [
  {
   "cell_type": "markdown",
   "id": "431c9b2e",
   "metadata": {},
   "source": [
    "# LabJack to adjust 2 pairs of 2-axis galvo\n",
    "This is an ad-hoc solution, everything is hard coded."
   ]
  },
  {
   "cell_type": "code",
   "execution_count": 1,
   "id": "2cce36ca",
   "metadata": {},
   "outputs": [
    {
     "name": "stdout",
     "output_type": "stream",
     "text": [
      "Requirement already satisfied: LabJackPython in c:\\users\\royerlab\\anaconda3\\envs\\copylot\\lib\\site-packages (2.0.4)\n"
     ]
    }
   ],
   "source": [
    "import sys\n",
    "!{sys.executable} -m pip install LabJackPython"
   ]
  },
  {
   "cell_type": "code",
   "execution_count": 2,
   "id": "023e0451",
   "metadata": {},
   "outputs": [],
   "source": [
    "import u3\n",
    "import numpy as np\n",
    "from time import sleep"
   ]
  },
  {
   "cell_type": "code",
   "execution_count": 3,
   "id": "483f3091",
   "metadata": {},
   "outputs": [],
   "source": [
    "# d = u3.U3()"
   ]
  },
  {
   "cell_type": "code",
   "execution_count": 4,
   "id": "a5aa2abc",
   "metadata": {},
   "outputs": [
    {
     "name": "stdout",
     "output_type": "stream",
     "text": [
      "d1 serial number is: 320082903\n",
      "d2 serial number is: 320088955\n"
     ]
    }
   ],
   "source": [
    "d1 = u3.U3(firstFound = False, devNumber=1)\n",
    "d2 = u3.U3(firstFound = False, devNumber=2)\n",
    "print('d1 serial number is: '+str(d1.serialNumber))\n",
    "print('d2 serial number is: '+str(d2.serialNumber))\n"
   ]
  },
  {
   "cell_type": "code",
   "execution_count": 5,
   "id": "cbf3d23e",
   "metadata": {},
   "outputs": [
    {
     "data": {
      "text/plain": [
       "<u3.U3 at 0x2d088cf34f0>"
      ]
     },
     "execution_count": 5,
     "metadata": {},
     "output_type": "execute_result"
    }
   ],
   "source": [
    "ds=[d1,d2]\n",
    "[d for d in ds if d.serialNumber==320088955][0]"
   ]
  },
  {
   "cell_type": "code",
   "execution_count": 6,
   "id": "5942c962",
   "metadata": {},
   "outputs": [],
   "source": [
    "def set_I0_galvo_B(voltage=0, ds=None):\n",
    "    # I0, galvo B, is connected to DAC0 of the first LJ, serial=320088955, \n",
    "    d=[d for d in ds if d.serialNumber==320088955][0]\n",
    "    v = d.voltageToDACBits(voltage, dacNumber = 0, is16Bits = False)\n",
    "    d.getFeedback(u3.DAC0_8(v)) \n",
    "    \n",
    "def set_I0_galvo_G(voltage=0, ds=None):\n",
    "    # I0, galvo G, is connected to DAC1 of the first LJ, serial=320088955, \n",
    "    d=[d for d in ds if d.serialNumber==320088955][0]\n",
    "    v = d.voltageToDACBits(voltage, dacNumber = 0, is16Bits = False)\n",
    "    d.getFeedback(u3.DAC1_8(v)) \n",
    "\n",
    "def set_I1_galvo_B(voltage=0, ds=None):\n",
    "    # I0, galvo B, is connected to DAC0 of the first LJ, serial=320088955, \n",
    "    d=[d for d in ds if d.serialNumber==320082903][0]\n",
    "    v = d.voltageToDACBits(voltage, dacNumber = 0, is16Bits = False)\n",
    "    d.getFeedback(u3.DAC0_8(v)) \n",
    "    \n",
    "def set_I1_galvo_G(voltage=0, ds=None):\n",
    "    # I0, galvo G, is connected to DAC1 of the first LJ, serial=320088955, \n",
    "    d=[d for d in ds if d.serialNumber==320082903][0]\n",
    "    v = d.voltageToDACBits(voltage, dacNumber = 0, is16Bits = False)\n",
    "    d.getFeedback(u3.DAC1_8(v)) "
   ]
  },
  {
   "cell_type": "markdown",
   "id": "aae61c2a",
   "metadata": {},
   "source": [
    "# Set galvo voltages."
   ]
  },
  {
   "cell_type": "code",
   "execution_count": 11,
   "id": "3fca374a",
   "metadata": {},
   "outputs": [],
   "source": [
    "set_I0_galvo_B(voltage = 0.2, ds = [d1, d2])"
   ]
  },
  {
   "cell_type": "code",
   "execution_count": 8,
   "id": "46caefcc",
   "metadata": {},
   "outputs": [],
   "source": [
    "set_I0_galvo_G(voltage = 0.019, ds = [d1, d2])  # finalized"
   ]
  },
  {
   "cell_type": "code",
   "execution_count": 9,
   "id": "02e74d79",
   "metadata": {},
   "outputs": [],
   "source": [
    "set_I1_galvo_G(voltage = 0.17, ds = [d1, d2]) # tentative"
   ]
  },
  {
   "cell_type": "code",
   "execution_count": 10,
   "id": "4f380b9d",
   "metadata": {},
   "outputs": [],
   "source": [
    "set_I1_galvo_B(voltage = 0.15, ds = [d1, d2])"
   ]
  },
  {
   "cell_type": "code",
   "execution_count": null,
   "id": "4e815c57",
   "metadata": {},
   "outputs": [],
   "source": []
  }
 ],
 "metadata": {
  "kernelspec": {
   "display_name": "copylot",
   "language": "python",
   "name": "copylot"
  },
  "language_info": {
   "codemirror_mode": {
    "name": "ipython",
    "version": 3
   },
   "file_extension": ".py",
   "mimetype": "text/x-python",
   "name": "python",
   "nbconvert_exporter": "python",
   "pygments_lexer": "ipython3",
   "version": "3.9.12"
  }
 },
 "nbformat": 4,
 "nbformat_minor": 5
}
