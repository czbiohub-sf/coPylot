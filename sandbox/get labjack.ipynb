{
 "cells": [
  {
   "cell_type": "markdown",
   "id": "431c9b2e",
   "metadata": {},
   "source": [
    "# LabJack to adjust 2 pairs of 2-axis galvo\n",
    "This is an ad-hoc solution, everything is hard coded."
   ]
  },
  {
   "cell_type": "code",
   "execution_count": 1,
   "id": "023e0451",
   "metadata": {},
   "outputs": [],
   "source": [
    "import u3\n",
    "import numpy as np\n",
    "from time import sleep"
   ]
  },
  {
   "cell_type": "code",
   "execution_count": 2,
   "id": "a5aa2abc",
   "metadata": {},
   "outputs": [
    {
     "name": "stdout",
     "output_type": "stream",
     "text": [
      "d1 serial number is: 320088955\n",
      "d2 serial number is: 320082903\n"
     ]
    }
   ],
   "source": [
    "d1 = u3.U3(firstFound = False, devNumber=1)\n",
    "d2 = u3.U3(firstFound = False, devNumber=2)\n",
    "print('d1 serial number is: '+str(d1.serialNumber))\n",
    "print('d2 serial number is: '+str(d2.serialNumber))\n"
   ]
  },
  {
   "cell_type": "code",
   "execution_count": 3,
   "id": "cbf3d23e",
   "metadata": {},
   "outputs": [
    {
     "data": {
      "text/plain": [
       "<u3.U3 at 0x19b46e92910>"
      ]
     },
     "execution_count": 3,
     "metadata": {},
     "output_type": "execute_result"
    }
   ],
   "source": [
    "ds=[d1,d2]\n",
    "[d for d in ds if d.serialNumber==320088955][0]"
   ]
  },
  {
   "cell_type": "code",
   "execution_count": 4,
   "id": "5942c962",
   "metadata": {},
   "outputs": [],
   "source": [
    "def set_I0_galvo_B(voltage=0, ds=None):\n",
    "    # I0, galvo B, is connected to DAC0 of the first LJ, serial=320088955, \n",
    "    d=[d for d in ds if d.serialNumber==320088955][0]\n",
    "    v = d.voltageToDACBits(voltage, dacNumber = 0, is16Bits = False)\n",
    "    d.getFeedback(u3.DAC0_8(v)) \n",
    "    \n",
    "def set_I0_galvo_G(voltage=0, ds=None):\n",
    "    # I0, galvo G, is connected to DAC1 of the first LJ, serial=320088955, \n",
    "    d=[d for d in ds if d.serialNumber==320088955][0]\n",
    "    v = d.voltageToDACBits(voltage, dacNumber = 0, is16Bits = False)\n",
    "    d.getFeedback(u3.DAC1_8(v)) \n",
    "\n",
    "def set_I1_galvo_B(voltage=0, ds=None):\n",
    "    # I0, galvo B, is connected to DAC0 of the first LJ, serial=320088955, \n",
    "    d=[d for d in ds if d.serialNumber==320082903][0]\n",
    "    v = d.voltageToDACBits(voltage, dacNumber = 0, is16Bits = False)\n",
    "    d.getFeedback(u3.DAC0_8(v)) \n",
    "    \n",
    "def set_I1_galvo_G(voltage=0, ds=None):\n",
    "    # I0, galvo G, is connected to DAC1 of the first LJ, serial=320088955, \n",
    "    d=[d for d in ds if d.serialNumber==320082903][0]\n",
    "    v = d.voltageToDACBits(voltage, dacNumber = 0, is16Bits = False)\n",
    "    d.getFeedback(u3.DAC1_8(v)) "
   ]
  },
  {
   "cell_type": "code",
   "execution_count": 5,
   "id": "879e0750",
   "metadata": {},
   "outputs": [],
   "source": [
    "# set everything to zero voltage\n",
    "set_I0_galvo_B(voltage=0, ds=[d1,d2])\n",
    "set_I0_galvo_G(voltage=0, ds=[d1,d2])\n",
    "set_I1_galvo_B(voltage=0, ds=[d1,d2])\n",
    "set_I1_galvo_G(voltage=0, ds=[d1,d2])\n"
   ]
  },
  {
   "cell_type": "markdown",
   "id": "ff1f53e2",
   "metadata": {},
   "source": [
    "# Check on oscilloscope to make sure the control lines are correct"
   ]
  },
  {
   "cell_type": "code",
   "execution_count": 15,
   "id": "14388e05",
   "metadata": {},
   "outputs": [],
   "source": [
    "for n in np.arange(0,20,1):\n",
    "    sleep(0.1)\n",
    "    set_I0_galvo_B(voltage=0,ds=[d1,d2])\n",
    "    sleep(0.1)\n",
    "    set_I0_galvo_B(voltage=0.5,ds=[d1,d2])\n",
    "    "
   ]
  },
  {
   "cell_type": "code",
   "execution_count": 16,
   "id": "0ef3fd30",
   "metadata": {},
   "outputs": [],
   "source": [
    "for n in np.arange(0,20,1):\n",
    "    sleep(0.1)\n",
    "    set_I0_galvo_G(voltage=0,ds=[d1,d2])\n",
    "    sleep(0.1)\n",
    "    set_I0_galvo_G(voltage=0.5,ds=[d1,d2])"
   ]
  },
  {
   "cell_type": "code",
   "execution_count": 17,
   "id": "0413feb4",
   "metadata": {},
   "outputs": [],
   "source": [
    "for n in np.arange(0,20,1):\n",
    "    sleep(0.1)\n",
    "    set_I1_galvo_B(voltage=0,ds=[d1,d2])\n",
    "    sleep(0.1)\n",
    "    set_I1_galvo_B(voltage=0.5,ds=[d1,d2])"
   ]
  },
  {
   "cell_type": "code",
   "execution_count": 18,
   "id": "1e9fb1a6",
   "metadata": {},
   "outputs": [],
   "source": [
    "for n in np.arange(0,20,1):\n",
    "    sleep(0.1)\n",
    "    set_I1_galvo_G(voltage=0,ds=[d1,d2])\n",
    "    sleep(0.1)\n",
    "    set_I1_galvo_G(voltage=0.5,ds=[d1,d2])"
   ]
  },
  {
   "cell_type": "markdown",
   "id": "9e4c6504",
   "metadata": {},
   "source": [
    "# Check galvo to make sure it is shafting."
   ]
  },
  {
   "cell_type": "code",
   "execution_count": 10,
   "id": "c7778cb3",
   "metadata": {},
   "outputs": [],
   "source": [
    "# set everything to zero voltage\n",
    "set_I0_galvo_B(voltage=0, ds=[d1,d2])\n",
    "set_I0_galvo_G(voltage=0, ds=[d1,d2])\n",
    "set_I1_galvo_B(voltage=0, ds=[d1,d2])\n",
    "set_I1_galvo_G(voltage=0, ds=[d1,d2])"
   ]
  },
  {
   "cell_type": "code",
   "execution_count": 19,
   "id": "a4f18e44",
   "metadata": {},
   "outputs": [
    {
     "ename": "KeyboardInterrupt",
     "evalue": "",
     "output_type": "error",
     "traceback": [
      "\u001b[1;31m---------------------------------------------------------------------------\u001b[0m",
      "\u001b[1;31mKeyboardInterrupt\u001b[0m                         Traceback (most recent call last)",
      "Input \u001b[1;32mIn [19]\u001b[0m, in \u001b[0;36m<cell line: 1>\u001b[1;34m()\u001b[0m\n\u001b[0;32m      6\u001b[0m     set_I0_galvo_B(voltage\u001b[38;5;241m=\u001b[39m\u001b[38;5;241m0.5\u001b[39m,ds\u001b[38;5;241m=\u001b[39m[d1,d2])\n\u001b[0;32m      8\u001b[0m \u001b[38;5;28;01mfor\u001b[39;00m n \u001b[38;5;129;01min\u001b[39;00m np\u001b[38;5;241m.\u001b[39marange(\u001b[38;5;241m0\u001b[39m,\u001b[38;5;241m20\u001b[39m,\u001b[38;5;241m1\u001b[39m):\n\u001b[1;32m----> 9\u001b[0m     \u001b[43msleep\u001b[49m\u001b[43m(\u001b[49m\u001b[38;5;241;43m0.1\u001b[39;49m\u001b[43m)\u001b[49m\n\u001b[0;32m     10\u001b[0m     set_I0_galvo_G(voltage\u001b[38;5;241m=\u001b[39m\u001b[38;5;241m0\u001b[39m,ds\u001b[38;5;241m=\u001b[39m[d1,d2])\n\u001b[0;32m     11\u001b[0m     sleep(\u001b[38;5;241m0.1\u001b[39m)\n",
      "\u001b[1;31mKeyboardInterrupt\u001b[0m: "
     ]
    }
   ],
   "source": [
    "for k in np.arange(0,100, 1):\n",
    "    for n in np.arange(0,20,1):\n",
    "        sleep(0.1)\n",
    "        set_I0_galvo_B(voltage=0,ds=[d1,d2])\n",
    "        sleep(0.1)\n",
    "        set_I0_galvo_B(voltage=0.5,ds=[d1,d2])\n",
    "\n",
    "    for n in np.arange(0,20,1):\n",
    "        sleep(0.1)\n",
    "        set_I0_galvo_G(voltage=0,ds=[d1,d2])\n",
    "        sleep(0.1)\n",
    "        set_I0_galvo_G(voltage=0.5,ds=[d1,d2])    "
   ]
  },
  {
   "cell_type": "code",
   "execution_count": null,
   "id": "3fca374a",
   "metadata": {},
   "outputs": [],
   "source": []
  }
 ],
 "metadata": {
  "kernelspec": {
   "display_name": "copylot",
   "language": "python",
   "name": "copylot"
  },
  "language_info": {
   "codemirror_mode": {
    "name": "ipython",
    "version": 3
   },
   "file_extension": ".py",
   "mimetype": "text/x-python",
   "name": "python",
   "nbconvert_exporter": "python",
   "pygments_lexer": "ipython3",
   "version": "3.9.12"
  }
 },
 "nbformat": 4,
 "nbformat_minor": 5
}
