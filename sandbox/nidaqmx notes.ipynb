{
 "cells": [
  {
   "cell_type": "markdown",
   "id": "7c40b94e",
   "metadata": {},
   "source": [
    "# Inspect basic properties of our DAQ cards"
   ]
  },
  {
   "cell_type": "code",
   "execution_count": 1,
   "id": "b53b7944",
   "metadata": {},
   "outputs": [],
   "source": [
    "import nidaqmx\n",
    "import nidaqmx.system\n"
   ]
  },
  {
   "cell_type": "markdown",
   "id": "420d5465",
   "metadata": {},
   "source": [
    "# Define tools"
   ]
  },
  {
   "cell_type": "code",
   "execution_count": 2,
   "id": "e3511c9f",
   "metadata": {},
   "outputs": [],
   "source": [
    "# inspect the first device\n",
    "# fetch the device\n",
    "def check_all_channels_of_a_device(device_name):\n",
    "    d = system.devices[device_name]\n",
    "\n",
    "    # check the available physical channels of this device:\n",
    "    print('\\n------ci phys channels:')\n",
    "    for x in d.ci_physical_chans.channel_names:\n",
    "        print(x)\n",
    "\n",
    "    print('\\n------co phys channels:')\n",
    "    for x in d.co_physical_chans.channel_names:\n",
    "        print(x)\n",
    "\n",
    "    print('\\n------ai phys channels:')\n",
    "    for x in d.ai_physical_chans.channel_names:\n",
    "        print(x)\n",
    "\n",
    "    print('\\n------ao phys channels:')\n",
    "    for x in d.ao_physical_chans.channel_names:\n",
    "        print(x)\n",
    "\n",
    "    print('\\n------di lines channel names:')\n",
    "    for x in d.di_lines.channel_names:\n",
    "        print(x)\n",
    "\n",
    "    print('\\n------do phys channels:')\n",
    "    for x in d.do_lines.channel_names:\n",
    "        print(x)\n"
   ]
  },
  {
   "cell_type": "markdown",
   "id": "2fd68eba",
   "metadata": {},
   "source": [
    "# Inspect devices"
   ]
  },
  {
   "cell_type": "code",
   "execution_count": 4,
   "id": "3e22979a",
   "metadata": {},
   "outputs": [
    {
     "name": "stdout",
     "output_type": "stream",
     "text": [
      "local devices names: ['cDAQ1', 'cDAQ2', 'cDAQ1AO', 'cDAQ1AO2', 'cDAQ1DIO']\n"
     ]
    }
   ],
   "source": [
    "# get the local system\n",
    "system = nidaqmx.system.System.local()\n",
    "\n",
    "# list out local devices names\n",
    "print('local devices names: ' + str(system.devices.device_names))"
   ]
  },
  {
   "cell_type": "code",
   "execution_count": 87,
   "id": "10014dd5",
   "metadata": {},
   "outputs": [
    {
     "name": "stdout",
     "output_type": "stream",
     "text": [
      "\n",
      "------ci phys channels:\n",
      "\n",
      "------co phys channels:\n",
      "\n",
      "------ai phys channels:\n",
      "\n",
      "------ao phys channels:\n",
      "\n",
      "------di lines channel names:\n",
      "\n",
      "------do phys channels:\n"
     ]
    }
   ],
   "source": [
    "check_all_channels_of_a_device(device_name='cDAQ1')"
   ]
  },
  {
   "cell_type": "code",
   "execution_count": 88,
   "id": "c5b3b3cb",
   "metadata": {},
   "outputs": [
    {
     "name": "stdout",
     "output_type": "stream",
     "text": [
      "\n",
      "------ci phys channels:\n",
      "\n",
      "------co phys channels:\n",
      "\n",
      "------ai phys channels:\n",
      "\n",
      "------ao phys channels:\n",
      "cDAQ1AO/ao0\n",
      "cDAQ1AO/ao1\n",
      "cDAQ1AO/ao2\n",
      "cDAQ1AO/ao3\n",
      "\n",
      "------di lines channel names:\n",
      "\n",
      "------do phys channels:\n"
     ]
    }
   ],
   "source": [
    "check_all_channels_of_a_device(device_name='cDAQ1AO')"
   ]
  },
  {
   "cell_type": "code",
   "execution_count": 89,
   "id": "bf3e69a9",
   "metadata": {},
   "outputs": [
    {
     "name": "stdout",
     "output_type": "stream",
     "text": [
      "\n",
      "------ci phys channels:\n",
      "\n",
      "------co phys channels:\n",
      "\n",
      "------ai phys channels:\n",
      "\n",
      "------ao phys channels:\n",
      "cDAQ1AO2/ao0\n",
      "cDAQ1AO2/ao1\n",
      "cDAQ1AO2/ao2\n",
      "cDAQ1AO2/ao3\n",
      "\n",
      "------di lines channel names:\n",
      "\n",
      "------do phys channels:\n"
     ]
    }
   ],
   "source": [
    "check_all_channels_of_a_device(device_name='cDAQ1AO2')"
   ]
  },
  {
   "cell_type": "code",
   "execution_count": 90,
   "id": "20ce0bd7",
   "metadata": {},
   "outputs": [
    {
     "name": "stdout",
     "output_type": "stream",
     "text": [
      "\n",
      "------ci phys channels:\n",
      "cDAQ1DIO/ctr0\n",
      "cDAQ1DIO/ctr1\n",
      "cDAQ1DIO/ctr2\n",
      "cDAQ1DIO/ctr3\n",
      "\n",
      "------co phys channels:\n",
      "cDAQ1DIO/ctr0\n",
      "cDAQ1DIO/ctr1\n",
      "cDAQ1DIO/ctr2\n",
      "cDAQ1DIO/ctr3\n",
      "cDAQ1DIO/freqout\n",
      "\n",
      "------ai phys channels:\n",
      "\n",
      "------ao phys channels:\n",
      "\n",
      "------di lines channel names:\n",
      "cDAQ1DIO/port0/line0\n",
      "cDAQ1DIO/port0/line1\n",
      "cDAQ1DIO/port0/line2\n",
      "cDAQ1DIO/port0/line3\n",
      "cDAQ1DIO/port0/line4\n",
      "cDAQ1DIO/port0/line5\n",
      "cDAQ1DIO/port0/line6\n",
      "cDAQ1DIO/port0/line7\n",
      "\n",
      "------do phys channels:\n",
      "cDAQ1DIO/port0/line0\n",
      "cDAQ1DIO/port0/line1\n",
      "cDAQ1DIO/port0/line2\n",
      "cDAQ1DIO/port0/line3\n",
      "cDAQ1DIO/port0/line4\n",
      "cDAQ1DIO/port0/line5\n",
      "cDAQ1DIO/port0/line6\n",
      "cDAQ1DIO/port0/line7\n"
     ]
    }
   ],
   "source": [
    "check_all_channels_of_a_device(device_name='cDAQ1DIO')"
   ]
  },
  {
   "cell_type": "markdown",
   "id": "c0698945",
   "metadata": {},
   "source": [
    "# Scratch board "
   ]
  },
  {
   "cell_type": "code",
   "execution_count": 5,
   "id": "7ad875fc",
   "metadata": {},
   "outputs": [],
   "source": [
    "d2 = system.devices['cDAQ1AO']"
   ]
  },
  {
   "cell_type": "code",
   "execution_count": 6,
   "id": "939da046",
   "metadata": {},
   "outputs": [
    {
     "data": {
      "text/plain": [
       "100000.0"
      ]
     },
     "execution_count": 6,
     "metadata": {},
     "output_type": "execute_result"
    }
   ],
   "source": [
    "d2."
   ]
  },
  {
   "cell_type": "code",
   "execution_count": 135,
   "id": "d5b57bf8",
   "metadata": {},
   "outputs": [
    {
     "data": {
      "text/plain": [
       "True"
      ]
     },
     "execution_count": 135,
     "metadata": {},
     "output_type": "execute_result"
    }
   ],
   "source": [
    "# the cDAQ1 card supports digital triggering\n",
    "d2.dig_trig_supported"
   ]
  },
  {
   "cell_type": "code",
   "execution_count": 136,
   "id": "38741e96",
   "metadata": {},
   "outputs": [
    {
     "data": {
      "text/plain": [
       "[<TriggerUsage.PAUSE: 12489>,\n",
       " <TriggerUsage.REFERENCE: 12490>,\n",
       " <TriggerUsage.START: 12491>]"
      ]
     },
     "execution_count": 136,
     "metadata": {},
     "output_type": "execute_result"
    }
   ],
   "source": [
    "d2.di_trig_usage"
   ]
  },
  {
   "cell_type": "code",
   "execution_count": 154,
   "id": "6814d634",
   "metadata": {},
   "outputs": [
    {
     "data": {
      "text/plain": [
       "['ai_current_int_excit_discrete_vals',\n",
       " 'ai_voltage_int_excit_discrete_vals',\n",
       " 'ai_voltage_int_excit_range_vals']"
      ]
     },
     "execution_count": 154,
     "metadata": {},
     "output_type": "execute_result"
    }
   ],
   "source": [
    "[x for x in l if '_int_' in x]"
   ]
  },
  {
   "cell_type": "code",
   "execution_count": 156,
   "id": "a0c12580",
   "metadata": {},
   "outputs": [
    {
     "data": {
      "text/plain": [
       "[]"
      ]
     },
     "execution_count": 156,
     "metadata": {},
     "output_type": "execute_result"
    }
   ],
   "source": [
    "d2.ai_voltage_int_excit_discrete_vals"
   ]
  },
  {
   "cell_type": "code",
   "execution_count": 169,
   "id": "787dbf2e",
   "metadata": {},
   "outputs": [
    {
     "data": {
      "text/plain": [
       "'cDAQ-9178'"
      ]
     },
     "execution_count": 169,
     "metadata": {},
     "output_type": "execute_result"
    }
   ],
   "source": [
    "d2.product_type"
   ]
  },
  {
   "cell_type": "markdown",
   "id": "cc29d0a2",
   "metadata": {},
   "source": [
    "### current focus:\n",
    "1. figure out what is _ctr1 channels and where it is listed in the device type.\n",
    "list out channels for all devices first"
   ]
  },
  {
   "cell_type": "code",
   "execution_count": null,
   "id": "2aec3c7b",
   "metadata": {},
   "outputs": [],
   "source": []
  },
  {
   "cell_type": "code",
   "execution_count": null,
   "id": "bae71424",
   "metadata": {},
   "outputs": [],
   "source": []
  },
  {
   "cell_type": "markdown",
   "id": "99347403",
   "metadata": {},
   "source": [
    "# Appendix \n",
    "## Check all attributes of an nidaqmx device"
   ]
  },
  {
   "cell_type": "code",
   "execution_count": 82,
   "id": "02e4cb7a",
   "metadata": {
    "scrolled": false
   },
   "outputs": [
    {
     "name": "stdout",
     "output_type": "stream",
     "text": [
      "all attributes grouped\n",
      "\n",
      "------------ ai relevant attributes ------------\n",
      "ai_bridge_rngs\n",
      "ai_charge_rngs\n",
      "ai_couplings\n",
      "ai_current_int_excit_discrete_vals\n",
      "ai_current_rngs\n",
      "ai_dig_fltr_lowpass_cutoff_freq_discrete_vals\n",
      "ai_dig_fltr_lowpass_cutoff_freq_range_vals\n",
      "ai_dig_fltr_types\n",
      "ai_freq_rngs\n",
      "ai_gains\n",
      "ai_lowpass_cutoff_freq_discrete_vals\n",
      "ai_lowpass_cutoff_freq_range_vals\n",
      "ai_max_multi_chan_rate\n",
      "ai_max_single_chan_rate\n",
      "ai_meas_types\n",
      "ai_min_rate\n",
      "ai_physical_chans\n",
      "ai_resistance_rngs\n",
      "ai_samp_modes\n",
      "ai_simultaneous_sampling_supported\n",
      "ai_trig_usage\n",
      "ai_voltage_int_excit_discrete_vals\n",
      "ai_voltage_int_excit_range_vals\n",
      "ai_voltage_rngs\n",
      "\n",
      "------------ ao relevant attributes ------------\n",
      "ao_current_rngs\n",
      "ao_gains\n",
      "ao_max_rate\n",
      "ao_min_rate\n",
      "ao_output_types\n",
      "ao_physical_chans\n",
      "ao_samp_clk_supported\n",
      "ao_samp_modes\n",
      "ao_trig_usage\n",
      "ao_voltage_rngs\n",
      "\n",
      "------------ di relevant attributes ------------\n",
      "di_lines\n",
      "di_max_rate\n",
      "di_ports\n",
      "di_trig_usage\n",
      "dig_trig_supported\n",
      "\n",
      "------------ do relevant attributes ------------\n",
      "do_lines\n",
      "do_max_rate\n",
      "do_ports\n",
      "do_trig_usage\n",
      "\n",
      "------------ ci relevant attributes ------------\n",
      "ci_max_size\n",
      "ci_max_timebase\n",
      "ci_meas_types\n",
      "ci_physical_chans\n",
      "ci_samp_clk_supported\n",
      "ci_samp_modes\n",
      "ci_trig_usage\n",
      "\n",
      "------------ co relevant attributes ------------\n",
      "co_max_size\n",
      "co_max_timebase\n",
      "co_output_types\n",
      "co_physical_chans\n",
      "co_samp_clk_supported\n",
      "co_samp_modes\n",
      "co_trig_usage\n",
      "compact_daq_chassis_device\n",
      "compact_daq_slot_num\n",
      "\n",
      "------------ hidden attributes ------------\n",
      "__class__\n",
      "__delattr__\n",
      "__dir__\n",
      "__doc__\n",
      "__eq__\n",
      "__format__\n",
      "__ge__\n",
      "__getattribute__\n",
      "__gt__\n",
      "__hash__\n",
      "__init__\n",
      "__init_subclass__\n",
      "__le__\n",
      "__lt__\n",
      "__module__\n",
      "__ne__\n",
      "__new__\n",
      "__reduce__\n",
      "__reduce_ex__\n",
      "__repr__\n",
      "__setattr__\n",
      "__sizeof__\n",
      "__slots__\n",
      "__str__\n",
      "__subclasshook__\n",
      "__weakref__\n",
      "\n",
      "------------ other attributes ------------\n",
      "_name\n",
      "accessory_product_nums\n",
      "accessory_product_types\n",
      "accessory_serial_nums\n",
      "add_network_device\n",
      "anlg_trig_supported\n",
      "bus_type\n",
      "carrier_serial_num\n",
      "chassis_module_devices\n",
      "delete_network_device\n",
      "dev_is_simulated\n",
      "dev_serial_num\n",
      "name\n",
      "num_dma_chans\n",
      "pci_bus_num\n",
      "pci_dev_num\n",
      "product_category\n",
      "product_num\n",
      "product_type\n",
      "pxi_chassis_num\n",
      "pxi_slot_num\n",
      "reserve_network_device\n",
      "reset_device\n",
      "self_test_device\n",
      "tcpip_ethernet_ip\n",
      "tcpip_hostname\n",
      "tcpip_wireless_ip\n",
      "tedshwteds_supported\n",
      "terminals\n",
      "unreserve_network_device\n"
     ]
    }
   ],
   "source": [
    "# group all the attributes of a device.\n",
    "l=dir(d)\n",
    "hidden = [x for x in l if x.startswith('__')]\n",
    "ao = [x for x in l if x.startswith('ao')]\n",
    "ai = [x for x in l if x.startswith('ai')]\n",
    "do = [x for x in l if x.startswith('do')]\n",
    "di = [x for x in l if x.startswith('di')]\n",
    "co = [x for x in l if x.startswith('co')]\n",
    "ci = [x for x in l if x.startswith('ci')]\n",
    "others = [x for x in l if x not in ao+ai+do+di+co+ci+hidden]\n",
    "lengths=[len(ao), len(ai), len(do), len(di), len(co), len(ci), len(hidden), len(others)]\n",
    "\n",
    "if sum(lengths)-len(l) == 0:\n",
    "    print('all attributes grouped')\n",
    "\n",
    "print('\\n------------ ai relevant attributes ------------')\n",
    "for x in ai: print(x)\n",
    "\n",
    "print('\\n------------ ao relevant attributes ------------')\n",
    "for x in ao: print(x)\n",
    "\n",
    "print('\\n------------ di relevant attributes ------------')\n",
    "for x in di: print(x)\n",
    "\n",
    "print('\\n------------ do relevant attributes ------------')\n",
    "for x in do: print(x)\n",
    "\n",
    "print('\\n------------ ci relevant attributes ------------')\n",
    "for x in ci: print(x)\n",
    "\n",
    "print('\\n------------ co relevant attributes ------------')\n",
    "for x in co: print(x)\n",
    "\n",
    "print('\\n------------ hidden attributes ------------')\n",
    "for x in hidden: print(x)\n",
    "\n",
    "print('\\n------------ other attributes ------------')\n",
    "for x in others: print(x)\n",
    "\n"
   ]
  },
  {
   "cell_type": "markdown",
   "id": "cd69feb1",
   "metadata": {},
   "source": [
    "# Notes about counters on cDAQ-9178:\n",
    "\n",
    "The Counter 0 Internal Output (Ctr0InternalOutput) signal is the output of Counter 0. This signal reflects the terminal count (TC) of Counter 0. The counter generates a terminal count when its count value rolls over. The two software-selectable output options are pulse on TC and toggle output polarity on TC. The output polarity is software-selectable for both options. The following figure shows the behavior of the Ctr0InternalOutput signal.\n",
    "\n",
    "This signal can be rounted internally to the divices connected to this Classis card.\n"
   ]
  },
  {
   "cell_type": "code",
   "execution_count": null,
   "id": "0cfa37bc",
   "metadata": {},
   "outputs": [],
   "source": []
  },
  {
   "cell_type": "code",
   "execution_count": null,
   "id": "3e113db3",
   "metadata": {},
   "outputs": [],
   "source": []
  },
  {
   "cell_type": "code",
   "execution_count": null,
   "id": "b999d6b7",
   "metadata": {},
   "outputs": [],
   "source": []
  },
  {
   "cell_type": "code",
   "execution_count": null,
   "id": "cb4a7643",
   "metadata": {},
   "outputs": [],
   "source": []
  },
  {
   "cell_type": "code",
   "execution_count": null,
   "id": "d93a3752",
   "metadata": {},
   "outputs": [],
   "source": []
  },
  {
   "cell_type": "code",
   "execution_count": null,
   "id": "9830d29d",
   "metadata": {},
   "outputs": [],
   "source": []
  },
  {
   "cell_type": "code",
   "execution_count": null,
   "id": "e35a48ac",
   "metadata": {},
   "outputs": [],
   "source": []
  },
  {
   "cell_type": "code",
   "execution_count": null,
   "id": "43eb8420",
   "metadata": {},
   "outputs": [],
   "source": []
  },
  {
   "cell_type": "code",
   "execution_count": null,
   "id": "88eed7cc",
   "metadata": {},
   "outputs": [],
   "source": []
  },
  {
   "cell_type": "code",
   "execution_count": null,
   "id": "bb9e48e1",
   "metadata": {},
   "outputs": [],
   "source": []
  },
  {
   "cell_type": "code",
   "execution_count": null,
   "id": "f28f3489",
   "metadata": {},
   "outputs": [],
   "source": []
  },
  {
   "cell_type": "code",
   "execution_count": null,
   "id": "1139751a",
   "metadata": {},
   "outputs": [],
   "source": []
  }
 ],
 "metadata": {
  "kernelspec": {
   "display_name": "coPylot2",
   "language": "python",
   "name": "copylot2"
  },
  "language_info": {
   "codemirror_mode": {
    "name": "ipython",
    "version": 3
   },
   "file_extension": ".py",
   "mimetype": "text/x-python",
   "name": "python",
   "nbconvert_exporter": "python",
   "pygments_lexer": "ipython3",
   "version": "3.9.12"
  }
 },
 "nbformat": 4,
 "nbformat_minor": 5
}
