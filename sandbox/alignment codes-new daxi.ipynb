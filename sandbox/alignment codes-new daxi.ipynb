{
 "cells": [
  {
   "cell_type": "code",
   "execution_count": 14,
   "metadata": {},
   "outputs": [],
   "source": [
    "# codes parsed from original DaXi controller codes\n",
    "\"\"\"making ao channel to send a sequence of signals\"\"\"\n",
    "import nidaqmx\n",
    "import nidaqmx.system\n",
    "import numpy as np\n",
    "import time "
   ]
  },
  {
   "cell_type": "markdown",
   "metadata": {},
   "source": [
    "# Define tools\n"
   ]
  },
  {
   "cell_type": "code",
   "execution_count": 45,
   "metadata": {},
   "outputs": [],
   "source": [
    "# create a task to set a device to \"go home\", meaning the neutral position with everything centered.\n",
    "def gohome(params):\n",
    "    if params['verbose']:\n",
    "        print('Now setting ['+params['controlled device name']+'] to the '+\n",
    "              'home position [voltage = '+str(params['home voltage'])+'v] with ' +\n",
    "              '[offset = '+str(params['home offset voltage'])+'v,'+str(params['home offset option'])+'] '+\n",
    "              'through channel [\\''+params['channel_string']+'\\']')\n",
    "    if params['channel I/O type'] == \"AO\":\n",
    "        task = nidaqmx.Task(params['controlled device name'] )\n",
    "        task.ao_channels.add_ao_voltage_chan(params['channel_string'])\n",
    "        params['task']=task\n",
    "        time.sleep(1)  # for manual inspection to make sure it took action.\n",
    "        try:\n",
    "            if params['home offset option'] is True:\n",
    "                value = params['home voltage'] + params['home offset voltage']\n",
    "            else:\n",
    "                value = params['home voltage']\n",
    "\n",
    "            task.write(value,auto_start=True)\n",
    "            if params['verbose']: print('Task perfromed successfully.')\n",
    "        except:\n",
    "            if params['verbose']: print('Failed performing the task.')\n",
    "        task.close()\n",
    "    else:\n",
    "        if params['verbose']: print('only DAQ AO channel is supported currently')\n",
    "    if params['verbose']:\n",
    "        print('Task closed.')"
   ]
  },
  {
   "cell_type": "code",
   "execution_count": 46,
   "metadata": {},
   "outputs": [],
   "source": [
    "def gohome_all(paramslist):\n",
    "    # create an AO task\n",
    "    task = nidaqmx.Task()\n",
    "    values=[]\n",
    "    # go through allt he pramslist and (1) add AO channels and (2) prepare write values list.\n",
    "    for params in paramslist:\n",
    "        if params['verbose']:\n",
    "            print('Now setting ['+params['controlled device name']+'] to the '+\n",
    "                  'home position [voltage = '+str(params['home voltage'])+'v] with ' +\n",
    "                  '[offset = '+str(params['home offset voltage'])+'v,'+str(params['home offset option'])+'] '+\n",
    "                  'through channel [\\''+params['channel_string']+'\\']')\n",
    "            \n",
    "        # add all the AO channels to the AO tasks \n",
    "        if params['channel I/O type'] == \"AO\":\n",
    "            task.ao_channels.add_ao_voltage_chan(params['channel_string'])\n",
    "            params['task'] = task\n",
    "            \n",
    "            # generate the value for this AO channel\n",
    "            try:\n",
    "                if params['home offset option'] is True:\n",
    "                    value = params['home voltage'] + params['home offset voltage']\n",
    "                else:\n",
    "                    value = params['home voltage']\n",
    "                    \n",
    "                # append the value to the value list\n",
    "                values.append(value)\n",
    "                if params['verbose']: print('Task performed successfully.')\n",
    "            except:\n",
    "                if params['verbose']: print('Failed performing the task.')\n",
    "            \n",
    "        else:\n",
    "            if params['verbose']: print('only DAQ AO channel is supported currently')\n",
    "            \n",
    "    task.write(values,auto_start=True)\n",
    "    return task"
   ]
  },
  {
   "cell_type": "markdown",
   "metadata": {},
   "source": [
    "# Below is trying to pull out the channel type from the device channel string"
   ]
  },
  {
   "cell_type": "markdown",
   "metadata": {},
   "source": [
    "# think about which way is better\n",
    "try \"launch - go\" framework and see if it feels right.\n",
    "\n",
    "Launch different channels onto the same task."
   ]
  },
  {
   "cell_type": "code",
   "execution_count": 16,
   "metadata": {},
   "outputs": [],
   "source": [
    "# get the local nidaqmx systems.\n",
    "system = nidaqmx.system.System.local()\n",
    "cstr = \"cDAQ1AO/ao0\" # provide a channel string name\n",
    "cstr2 = \"/cDAQ1/Ctr0InternalOutput\""
   ]
  },
  {
   "cell_type": "code",
   "execution_count": 17,
   "metadata": {},
   "outputs": [],
   "source": [
    "d = system.devices[cstr2]"
   ]
  },
  {
   "cell_type": "code",
   "execution_count": 18,
   "metadata": {},
   "outputs": [
    {
     "data": {
      "text/plain": [
       "'/cDAQ1/Ctr0InternalOutput'"
      ]
     },
     "execution_count": 18,
     "metadata": {},
     "output_type": "execute_result"
    }
   ],
   "source": [
    "d.name"
   ]
  },
  {
   "cell_type": "code",
   "execution_count": 19,
   "metadata": {},
   "outputs": [],
   "source": [
    "l=nidaqmx.system.physical_channel.PhysicalChannel(cstr)"
   ]
  },
  {
   "cell_type": "code",
   "execution_count": 20,
   "metadata": {},
   "outputs": [
    {
     "data": {
      "text/plain": [
       "'cDAQ1AO/ao0'"
      ]
     },
     "execution_count": 20,
     "metadata": {},
     "output_type": "execute_result"
    }
   ],
   "source": [
    "l.name"
   ]
  },
  {
   "cell_type": "code",
   "execution_count": 21,
   "metadata": {},
   "outputs": [
    {
     "data": {
      "text/plain": [
       "['cDAQ1', 'cDAQ1-AO-NI9263', 'cDAQ2-DIO-NI9401', 'cDAQ3-AO-NI9263', 'SimDev1']"
      ]
     },
     "execution_count": 21,
     "metadata": {},
     "output_type": "execute_result"
    }
   ],
   "source": [
    "# list the names of all the DAQ cards:\n",
    "system.devices.device_names"
   ]
  },
  {
   "cell_type": "markdown",
   "metadata": {},
   "source": [
    "## Want to find out all available channels."
   ]
  },
  {
   "cell_type": "code",
   "execution_count": 22,
   "metadata": {},
   "outputs": [
    {
     "data": {
      "text/plain": [
       "['cDAQ2-DIO-NI9401/ctr0',\n",
       " 'cDAQ2-DIO-NI9401/ctr1',\n",
       " 'cDAQ2-DIO-NI9401/ctr2',\n",
       " 'cDAQ2-DIO-NI9401/ctr3']"
      ]
     },
     "execution_count": 22,
     "metadata": {},
     "output_type": "execute_result"
    }
   ],
   "source": [
    "# check properties of the cDAQ1DIO card:\n",
    "d = system.devices['cDAQ2-DIO-NI9401']\n",
    "\n",
    "# counter has 80 MHz rate:\n",
    "d.ci_max_timebase\n",
    "\n",
    "d.ci_physical_chans.channel_names"
   ]
  },
  {
   "cell_type": "code",
   "execution_count": 23,
   "metadata": {},
   "outputs": [
    {
     "name": "stdout",
     "output_type": "stream",
     "text": [
      "32\n",
      "80000000.0\n"
     ]
    }
   ],
   "source": [
    "# check the cDAQ1 card\n",
    "d1 = system.devices['cDAQ2-DIO-NI9401']\n",
    "\n",
    "# counter size is 32 bits\n",
    "print(d1.ci_max_size)\n",
    "\n",
    "# counter max time base is 80 MHz\n",
    "print(d1.ci_max_timebase)\n",
    "\n",
    "\n"
   ]
  },
  {
   "cell_type": "markdown",
   "metadata": {},
   "source": []
  },
  {
   "cell_type": "markdown",
   "metadata": {},
   "source": [
    "# Scratch board below  -  2022-08-31 - configure daq ports for the new daxi"
   ]
  },
  {
   "cell_type": "markdown",
   "metadata": {},
   "source": [
    "## Define tools"
   ]
  },
  {
   "cell_type": "code",
   "execution_count": 24,
   "metadata": {},
   "outputs": [],
   "source": [
    "import nidaqmx\n",
    "import nidaqmx.system\n",
    "import numpy as np\n",
    "import time\n",
    "from time import sleep\n",
    "\n",
    "# define parameters\n",
    "# in this cell we store the final voltages.\n",
    "SG={} # scanning galvo\n",
    "SG['instrument name'] = \"DaXi\"\n",
    "SG['channel I/O type'] = \"AO\"  #\n",
    "SG['channel_string'] = \"cDAQ3-AO-NI9263/ao0\"  # name of the DAQ channel that will be used to control the device\n",
    "SG['controlled device name'] = \"scanning galvo\"  # name of the deviced to be controlled.\n",
    "SG['description'] = \"at C-BFP, to scan the position of the light sheet.\"  # purpose of this device.\n",
    "SG['home voltage'] = 0  # voltage of the home value to be sent to the specified DAQ channel.\n",
    "SG['home offset voltage'] = 0  # this is an offset voltage to set on top of the home voltage value.\n",
    "SG['home offset option'] = True  # the offset will be applied when this option is True.\n",
    "SG['verbose'] = False  # when True, status messages will be printed.\n",
    "\n",
    "# O1\n",
    "O1={} # scanning galvo\n",
    "O1['instrument name'] = \"DaXi\"\n",
    "O1['channel I/O type'] = \"AO\"  #\n",
    "O1['channel_string'] = \"cDAQ3-AO-NI9263/ao1\"  # name of the DAQ channel that will be used to control the device\n",
    "O1['controlled device name'] = \"o1\"  # name of the deviced to be controlled.\n",
    "O1['description'] = \"set O1 offset.\"  # purpose of this device.\n",
    "O1['home voltage'] = 0  # voltage of the home value to be sent to the specified DAQ channel.\n",
    "O1['home offset voltage'] = 0  # this is an offset voltage to set on top of the home voltage value.\n",
    "O1['home offset option'] = True  # the offset will be applied when this option is True.\n",
    "O1['verbose'] = False  # when True, status messages will be printed.\n",
    "\n",
    "# define parameters\n",
    "gamma_G={} # gamma galvo\n",
    "gamma_G['instrument name'] = \"DaXi\"\n",
    "gamma_G['channel I/O type'] = \"AO\"  #\n",
    "gamma_G['channel_string'] = \"cDAQ1-AO-NI9263/ao1\"  # name of the DAQ channel that will be used to control the device\n",
    "gamma_G['controlled device name'] = \"gamma galvo\"  # name of the deviced to be controlled.\n",
    "gamma_G['description'] = \" at C-FP, introduce in-plane tilts in the light sheet, used for strip reduction\"  # purpose of this device.\n",
    "gamma_G['home voltage'] = 0  # voltage of the home value to be sent to the specified DAQ channel.\n",
    "gamma_G['home offset voltage'] = 0 # this is an offset voltage to set on top of the home voltage value.\n",
    "gamma_G['home offset option'] = True  # the offset will be applied when this option is True.\n",
    "gamma_G['verbose'] = False  # when True, status messages will be printed.\n",
    "\n",
    "# define parameters\n",
    "beta_G={} # beta galvo\n",
    "beta_G['instrument name'] = \"DaXi\"\n",
    "beta_G['channel I/O type'] = \"AO\"  #\n",
    "beta_G['channel_string'] = \"cDAQ1-AO-NI9263/ao0\"  # name of the DAQ channel that will be used to control the device\n",
    "beta_G['controlled device name'] = \"beta galvo\"  # name of the deviced to be controlled.\n",
    "beta_G['description'] = \"at C-FP, introduce out-of-plane tilt in the  light sheet, used for changing pitch angle\"  # purpose of this device.\n",
    "beta_G['home voltage'] = 0  # voltage of the home value to be sent to the specified DAQ channel.\n",
    "beta_G['home offset voltage'] = 0  # this is an offset voltage to set on top of the home voltage value.\n",
    "beta_G['home offset option'] = True  # the offset will be applied when this option is True.\n",
    "beta_G['verbose'] = False  # when True, status messages will be printed.\n",
    "\n",
    "# define parameters\n",
    "VSG1={} # view switching galvo 1\n",
    "VSG1['instrument name'] = \"DaXi\"\n",
    "VSG1['channel I/O type'] = \"AO\"  #\n",
    "VSG1['channel_string'] = \"cDAQ1-AO-NI9263/ao2\"  # name of the DAQ channel that will be used to control the device\n",
    "VSG1['controlled device name'] = \"view switching galvo 1 (closer to O1)\"  # name of the deviced to be controlled.\n",
    "VSG1['description'] = \"not in C planes, used for switching the view.\"  # purpose of this device.\n",
    "VSG1['home voltage'] = 0  # voltage of the home value to be sent to the specified DAQ channel.\n",
    "VSG1['home offset voltage'] = 0  # this is an offset voltage to set on top of the home voltage value.\n",
    "VSG1['home offset option'] = True  # the offset will be applied when this option is True.\n",
    "VSG1['verbose'] = False  # when True, status messages will be printed.\n",
    "\n",
    "# define parameters\n",
    "VSG2={} # view switching galvo 2\n",
    "VSG2['instrument name'] = \"DaXi\"\n",
    "VSG2['channel I/O type'] = \"AO\"  #\n",
    "VSG2['channel_string'] = \"cDAQ1-AO-NI9263/ao2\"  # name of the DAQ channel that will be used to control the device\n",
    "VSG2['controlled device name'] = \"view switching galvo 2 (closer to O2)\"  # name of the deviced to be controlled.\n",
    "VSG2['description'] = \"not in C planes, used for switching the view.\"  # purpose of this device.\n",
    "VSG2['home voltage'] = 0  # voltage of the home value to be sent to the specified DAQ channel.\n",
    "VSG2['home offset voltage'] = 0  # this is an offset voltage to set on top of the home voltage value.\n",
    "VSG2['home offset option'] = True  # the offset will be applied when this option is True.\n",
    "VSG2['verbose'] = False  # when True, status messages will be printed.\n"
   ]
  },
  {
   "cell_type": "code",
   "execution_count": 53,
   "metadata": {},
   "outputs": [
    {
     "name": "stderr",
     "output_type": "stream",
     "text": [
      "C:\\Users\\Chan Zuckerberg\\.conda\\envs\\sandbox1\\lib\\site-packages\\nidaqmx\\task.py:102: ResourceWarning: Task of name \"_unnamedTask<A>\" was not explicitly closed before it was destructed. Resources on the task device may still be reserved.\n",
      "  warnings.warn(\n",
      "C:\\Users\\Chan Zuckerberg\\.conda\\envs\\sandbox1\\lib\\site-packages\\nidaqmx\\task.py:102: ResourceWarning: Task of name \"_unnamedTask<B>\" was not explicitly closed before it was destructed. Resources on the task device may still be reserved.\n",
      "  warnings.warn(\n",
      "C:\\Users\\Chan Zuckerberg\\.conda\\envs\\sandbox1\\lib\\site-packages\\nidaqmx\\task.py:102: ResourceWarning: Task of name \"_unnamedTask<C>\" was not explicitly closed before it was destructed. Resources on the task device may still be reserved.\n",
      "  warnings.warn(\n",
      "C:\\Users\\Chan Zuckerberg\\.conda\\envs\\sandbox1\\lib\\site-packages\\nidaqmx\\task.py:102: ResourceWarning: Task of name \"_unnamedTask<0>\" was not explicitly closed before it was destructed. Resources on the task device may still be reserved.\n",
      "  warnings.warn(\n",
      "C:\\Users\\Chan Zuckerberg\\.conda\\envs\\sandbox1\\lib\\site-packages\\nidaqmx\\task.py:102: ResourceWarning: Task of name \"_unnamedTask<2>\" was not explicitly closed before it was destructed. Resources on the task device may still be reserved.\n",
      "  warnings.warn(\n",
      "C:\\Users\\Chan Zuckerberg\\.conda\\envs\\sandbox1\\lib\\site-packages\\nidaqmx\\task.py:102: ResourceWarning: Task of name \"_unnamedTask<7>\" was not explicitly closed before it was destructed. Resources on the task device may still be reserved.\n",
      "  warnings.warn(\n"
     ]
    },
    {
     "ename": "DaqError",
     "evalue": "Task specified is invalid or does not exist.\nStatus Code: -200088",
     "output_type": "error",
     "traceback": [
      "\u001b[1;31m---------------------------------------------------------------------------\u001b[0m",
      "\u001b[1;31mDaqError\u001b[0m                                  Traceback (most recent call last)",
      "File \u001b[1;32m~\\.conda\\envs\\sandbox1\\lib\\site-packages\\IPython\\core\\formatters.py:707\u001b[0m, in \u001b[0;36mPlainTextFormatter.__call__\u001b[1;34m(self, obj)\u001b[0m\n\u001b[0;32m    700\u001b[0m stream \u001b[38;5;241m=\u001b[39m StringIO()\n\u001b[0;32m    701\u001b[0m printer \u001b[38;5;241m=\u001b[39m pretty\u001b[38;5;241m.\u001b[39mRepresentationPrinter(stream, \u001b[38;5;28mself\u001b[39m\u001b[38;5;241m.\u001b[39mverbose,\n\u001b[0;32m    702\u001b[0m     \u001b[38;5;28mself\u001b[39m\u001b[38;5;241m.\u001b[39mmax_width, \u001b[38;5;28mself\u001b[39m\u001b[38;5;241m.\u001b[39mnewline,\n\u001b[0;32m    703\u001b[0m     max_seq_length\u001b[38;5;241m=\u001b[39m\u001b[38;5;28mself\u001b[39m\u001b[38;5;241m.\u001b[39mmax_seq_length,\n\u001b[0;32m    704\u001b[0m     singleton_pprinters\u001b[38;5;241m=\u001b[39m\u001b[38;5;28mself\u001b[39m\u001b[38;5;241m.\u001b[39msingleton_printers,\n\u001b[0;32m    705\u001b[0m     type_pprinters\u001b[38;5;241m=\u001b[39m\u001b[38;5;28mself\u001b[39m\u001b[38;5;241m.\u001b[39mtype_printers,\n\u001b[0;32m    706\u001b[0m     deferred_pprinters\u001b[38;5;241m=\u001b[39m\u001b[38;5;28mself\u001b[39m\u001b[38;5;241m.\u001b[39mdeferred_printers)\n\u001b[1;32m--> 707\u001b[0m \u001b[43mprinter\u001b[49m\u001b[38;5;241;43m.\u001b[39;49m\u001b[43mpretty\u001b[49m\u001b[43m(\u001b[49m\u001b[43mobj\u001b[49m\u001b[43m)\u001b[49m\n\u001b[0;32m    708\u001b[0m printer\u001b[38;5;241m.\u001b[39mflush()\n\u001b[0;32m    709\u001b[0m \u001b[38;5;28;01mreturn\u001b[39;00m stream\u001b[38;5;241m.\u001b[39mgetvalue()\n",
      "File \u001b[1;32m~\\.conda\\envs\\sandbox1\\lib\\site-packages\\IPython\\lib\\pretty.py:393\u001b[0m, in \u001b[0;36mRepresentationPrinter.pretty\u001b[1;34m(self, obj)\u001b[0m\n\u001b[0;32m    390\u001b[0m \u001b[38;5;28;01mfor\u001b[39;00m \u001b[38;5;28mcls\u001b[39m \u001b[38;5;129;01min\u001b[39;00m _get_mro(obj_class):\n\u001b[0;32m    391\u001b[0m     \u001b[38;5;28;01mif\u001b[39;00m \u001b[38;5;28mcls\u001b[39m \u001b[38;5;129;01min\u001b[39;00m \u001b[38;5;28mself\u001b[39m\u001b[38;5;241m.\u001b[39mtype_pprinters:\n\u001b[0;32m    392\u001b[0m         \u001b[38;5;66;03m# printer registered in self.type_pprinters\u001b[39;00m\n\u001b[1;32m--> 393\u001b[0m         \u001b[38;5;28;01mreturn\u001b[39;00m \u001b[38;5;28;43mself\u001b[39;49m\u001b[38;5;241;43m.\u001b[39;49m\u001b[43mtype_pprinters\u001b[49m\u001b[43m[\u001b[49m\u001b[38;5;28;43mcls\u001b[39;49m\u001b[43m]\u001b[49m\u001b[43m(\u001b[49m\u001b[43mobj\u001b[49m\u001b[43m,\u001b[49m\u001b[43m \u001b[49m\u001b[38;5;28;43mself\u001b[39;49m\u001b[43m,\u001b[49m\u001b[43m \u001b[49m\u001b[43mcycle\u001b[49m\u001b[43m)\u001b[49m\n\u001b[0;32m    394\u001b[0m     \u001b[38;5;28;01melse\u001b[39;00m:\n\u001b[0;32m    395\u001b[0m         \u001b[38;5;66;03m# deferred printer\u001b[39;00m\n\u001b[0;32m    396\u001b[0m         printer \u001b[38;5;241m=\u001b[39m \u001b[38;5;28mself\u001b[39m\u001b[38;5;241m.\u001b[39m_in_deferred_types(\u001b[38;5;28mcls\u001b[39m)\n",
      "File \u001b[1;32m~\\.conda\\envs\\sandbox1\\lib\\site-packages\\IPython\\lib\\pretty.py:692\u001b[0m, in \u001b[0;36m_dict_pprinter_factory.<locals>.inner\u001b[1;34m(obj, p, cycle)\u001b[0m\n\u001b[0;32m    690\u001b[0m     p\u001b[38;5;241m.\u001b[39mpretty(key)\n\u001b[0;32m    691\u001b[0m     p\u001b[38;5;241m.\u001b[39mtext(\u001b[38;5;124m'\u001b[39m\u001b[38;5;124m: \u001b[39m\u001b[38;5;124m'\u001b[39m)\n\u001b[1;32m--> 692\u001b[0m     \u001b[43mp\u001b[49m\u001b[38;5;241;43m.\u001b[39;49m\u001b[43mpretty\u001b[49m\u001b[43m(\u001b[49m\u001b[43mobj\u001b[49m\u001b[43m[\u001b[49m\u001b[43mkey\u001b[49m\u001b[43m]\u001b[49m\u001b[43m)\u001b[49m\n\u001b[0;32m    693\u001b[0m p\u001b[38;5;241m.\u001b[39mend_group(step, end)\n",
      "File \u001b[1;32m~\\.conda\\envs\\sandbox1\\lib\\site-packages\\IPython\\lib\\pretty.py:410\u001b[0m, in \u001b[0;36mRepresentationPrinter.pretty\u001b[1;34m(self, obj)\u001b[0m\n\u001b[0;32m    407\u001b[0m                         \u001b[38;5;28;01mreturn\u001b[39;00m meth(obj, \u001b[38;5;28mself\u001b[39m, cycle)\n\u001b[0;32m    408\u001b[0m                 \u001b[38;5;28;01mif\u001b[39;00m \u001b[38;5;28mcls\u001b[39m \u001b[38;5;129;01mis\u001b[39;00m \u001b[38;5;129;01mnot\u001b[39;00m \u001b[38;5;28mobject\u001b[39m \\\n\u001b[0;32m    409\u001b[0m                         \u001b[38;5;129;01mand\u001b[39;00m callable(\u001b[38;5;28mcls\u001b[39m\u001b[38;5;241m.\u001b[39m\u001b[38;5;18m__dict__\u001b[39m\u001b[38;5;241m.\u001b[39mget(\u001b[38;5;124m'\u001b[39m\u001b[38;5;124m__repr__\u001b[39m\u001b[38;5;124m'\u001b[39m)):\n\u001b[1;32m--> 410\u001b[0m                     \u001b[38;5;28;01mreturn\u001b[39;00m \u001b[43m_repr_pprint\u001b[49m\u001b[43m(\u001b[49m\u001b[43mobj\u001b[49m\u001b[43m,\u001b[49m\u001b[43m \u001b[49m\u001b[38;5;28;43mself\u001b[39;49m\u001b[43m,\u001b[49m\u001b[43m \u001b[49m\u001b[43mcycle\u001b[49m\u001b[43m)\u001b[49m\n\u001b[0;32m    412\u001b[0m     \u001b[38;5;28;01mreturn\u001b[39;00m _default_pprint(obj, \u001b[38;5;28mself\u001b[39m, cycle)\n\u001b[0;32m    413\u001b[0m \u001b[38;5;28;01mfinally\u001b[39;00m:\n",
      "File \u001b[1;32m~\\.conda\\envs\\sandbox1\\lib\\site-packages\\IPython\\lib\\pretty.py:778\u001b[0m, in \u001b[0;36m_repr_pprint\u001b[1;34m(obj, p, cycle)\u001b[0m\n\u001b[0;32m    776\u001b[0m \u001b[38;5;124;03m\"\"\"A pprint that just redirects to the normal repr function.\"\"\"\u001b[39;00m\n\u001b[0;32m    777\u001b[0m \u001b[38;5;66;03m# Find newlines and replace them with p.break_()\u001b[39;00m\n\u001b[1;32m--> 778\u001b[0m output \u001b[38;5;241m=\u001b[39m \u001b[38;5;28;43mrepr\u001b[39;49m\u001b[43m(\u001b[49m\u001b[43mobj\u001b[49m\u001b[43m)\u001b[49m\n\u001b[0;32m    779\u001b[0m lines \u001b[38;5;241m=\u001b[39m output\u001b[38;5;241m.\u001b[39msplitlines()\n\u001b[0;32m    780\u001b[0m \u001b[38;5;28;01mwith\u001b[39;00m p\u001b[38;5;241m.\u001b[39mgroup():\n",
      "File \u001b[1;32m~\\.conda\\envs\\sandbox1\\lib\\site-packages\\nidaqmx\\task.py:125\u001b[0m, in \u001b[0;36mTask.__repr__\u001b[1;34m(self)\u001b[0m\n\u001b[0;32m    124\u001b[0m \u001b[38;5;28;01mdef\u001b[39;00m \u001b[38;5;21m__repr__\u001b[39m(\u001b[38;5;28mself\u001b[39m):\n\u001b[1;32m--> 125\u001b[0m     \u001b[38;5;28;01mreturn\u001b[39;00m \u001b[38;5;124m'\u001b[39m\u001b[38;5;124mTask(name=\u001b[39m\u001b[38;5;132;01m{0}\u001b[39;00m\u001b[38;5;124m)\u001b[39m\u001b[38;5;124m'\u001b[39m\u001b[38;5;241m.\u001b[39mformat(\u001b[38;5;28;43mself\u001b[39;49m\u001b[38;5;241;43m.\u001b[39;49m\u001b[43mname\u001b[49m)\n",
      "File \u001b[1;32m~\\.conda\\envs\\sandbox1\\lib\\site-packages\\nidaqmx\\task.py:156\u001b[0m, in \u001b[0;36mTask.name\u001b[1;34m(self)\u001b[0m\n\u001b[0;32m    153\u001b[0m     \u001b[38;5;28;01melse\u001b[39;00m:\n\u001b[0;32m    154\u001b[0m         \u001b[38;5;28;01mbreak\u001b[39;00m\n\u001b[1;32m--> 156\u001b[0m \u001b[43mcheck_for_error\u001b[49m\u001b[43m(\u001b[49m\u001b[43msize_or_code\u001b[49m\u001b[43m)\u001b[49m\n\u001b[0;32m    158\u001b[0m \u001b[38;5;28;01mreturn\u001b[39;00m val\u001b[38;5;241m.\u001b[39mvalue\u001b[38;5;241m.\u001b[39mdecode(\u001b[38;5;124m'\u001b[39m\u001b[38;5;124mascii\u001b[39m\u001b[38;5;124m'\u001b[39m)\n",
      "File \u001b[1;32m~\\.conda\\envs\\sandbox1\\lib\\site-packages\\nidaqmx\\errors.py:127\u001b[0m, in \u001b[0;36mcheck_for_error\u001b[1;34m(error_code)\u001b[0m\n\u001b[0;32m    124\u001b[0m                 cfunc\u001b[38;5;241m.\u001b[39margtypes \u001b[38;5;241m=\u001b[39m [ctypes\u001b[38;5;241m.\u001b[39mc_char_p, ctypes\u001b[38;5;241m.\u001b[39mc_uint]\n\u001b[0;32m    125\u001b[0m     cfunc(error_buffer, \u001b[38;5;241m2048\u001b[39m)\n\u001b[1;32m--> 127\u001b[0m     \u001b[38;5;28;01mraise\u001b[39;00m DaqError(error_buffer\u001b[38;5;241m.\u001b[39mvalue\u001b[38;5;241m.\u001b[39mdecode(\u001b[38;5;124m\"\u001b[39m\u001b[38;5;124mutf-8\u001b[39m\u001b[38;5;124m\"\u001b[39m), error_code)\n\u001b[0;32m    129\u001b[0m \u001b[38;5;28;01melif\u001b[39;00m error_code \u001b[38;5;241m>\u001b[39m \u001b[38;5;241m0\u001b[39m:\n\u001b[0;32m    130\u001b[0m     error_buffer \u001b[38;5;241m=\u001b[39m ctypes\u001b[38;5;241m.\u001b[39mcreate_string_buffer(\u001b[38;5;241m2048\u001b[39m)\n",
      "\u001b[1;31mDaqError\u001b[0m: Task specified is invalid or does not exist.\nStatus Code: -200088"
     ]
    }
   ],
   "source": [
    "beta_G"
   ]
  },
  {
   "cell_type": "markdown",
   "metadata": {},
   "source": [
    "# adjusting voltages for beta and gamma galvos."
   ]
  },
  {
   "cell_type": "code",
   "execution_count": 51,
   "metadata": {},
   "outputs": [],
   "source": [
    "beta_G['home voltage']=0\n",
    "gamma_G['home voltage']=0\n",
    "\n",
    "t=gohome_all([gamma_G, beta_G])"
   ]
  },
  {
   "cell_type": "code",
   "execution_count": 52,
   "metadata": {},
   "outputs": [],
   "source": [
    "t.close()"
   ]
  },
  {
   "cell_type": "markdown",
   "metadata": {},
   "source": [
    "# Adjusting VS galvos for view with 1 mirror"
   ]
  },
  {
   "cell_type": "code",
   "execution_count": null,
   "metadata": {},
   "outputs": [],
   "source": [
    "# view with 1 mirror.\n",
    "sleep(2)\n",
    "VSG1['home offset voltage']= -4.28# -4.06 negative moves left.\n",
    "VSG2['home offset voltage']= 4.65\n",
    "gohome(VSG1)\n",
    "gohome(VSG2)"
   ]
  },
  {
   "cell_type": "markdown",
   "metadata": {},
   "source": [
    "# Adjust VS galvo for view with 2 mirrors"
   ]
  },
  {
   "cell_type": "code",
   "execution_count": 53,
   "metadata": {},
   "outputs": [],
   "source": [
    "sleep(2)\n",
    "VSG1['home offset voltage'] = 4.125 #4.255 #4.21\n",
    "VSG2['home offset voltage'] = -3.525\n",
    "gohome(VSG1) \n",
    "gohome(VSG2)"
   ]
  },
  {
   "cell_type": "markdown",
   "metadata": {},
   "source": [
    "# Adjusting gamma and beta galvos"
   ]
  },
  {
   "cell_type": "code",
   "execution_count": 52,
   "metadata": {},
   "outputs": [],
   "source": [
    "sleep(1)\n",
    "gamma_G['home offset voltage'] = 0.18    #-1.1 # (negative moves down)\n",
    "gohome(gamma_G)\n",
    "beta_G['home offset voltage'] = 0.4    #1.7 #0.84#0.87 # ( negative moves to right)\n",
    "gohome(beta_G)       "
   ]
  },
  {
   "cell_type": "markdown",
   "metadata": {},
   "source": [
    "# Adjut for beta/gamma galvo conjugation."
   ]
  },
  {
   "cell_type": "code",
   "execution_count": 47,
   "metadata": {},
   "outputs": [],
   "source": [
    "gamma_G['home offset voltage'] = 0 # (negative moves down)\n",
    "gohome(gamma_G)"
   ]
  },
  {
   "cell_type": "code",
   "execution_count": 190,
   "metadata": {},
   "outputs": [],
   "source": [
    "for _ in np.arange(3):\n",
    "    beta_G['home offset voltage'] = 1.3 # ( negative moves to right)\n",
    "    gohome(beta_G)\n",
    "    go    beta_G['home offset voltage'] = 0.5 # ( negative moves to right) \n",
    "home(beta_G)"
   ]
  },
  {
   "cell_type": "markdown",
   "metadata": {},
   "source": [
    "# Adjusting SG galvos"
   ]
  },
  {
   "cell_type": "code",
   "execution_count": 28,
   "metadata": {},
   "outputs": [],
   "source": [
    "sleep(0.5)\n",
    "SG['home offset voltage'] = 1.57 #1.65 \n",
    "gohome(SG    "
   ]
  },
  {
   "cell_type": "markdown",
   "metadata": {},
   "source": [
    "# Adjust O1 position for calibration"
   ]
  },
  {
   "cell_type": "code",
   "execution_count": 581,
   "metadata": {},
   "outputs": [],
   "source": [
    "O1['home voltage'] = 5 # (negative moves down)\n",
    "gohome(O1)"
   ]
  },
  {
   "cell_type": "code",
   "execution_count": null,
   "metadata": {},
   "outputs": [],
   "source": [
    "O1['home voltage'] = -5 # (negative moves down)\n",
    "gohome(O1)"
   ]
  },
  {
   "cell_type": "code",
   "execution_count": 656,
   "metadata": {},
   "outputs": [],
   "source": [
    "O1['home voltage'] = 0 # (negative moves down)\n",
    "gohome(O1)"
   ]
  },
  {
   "cell_type": "code",
   "execution_count": null,
   "metadata": {},
   "outputs": [],
   "source": []
  },
  {
   "cell_type": "code",
   "execution_count": null,
   "metadata": {},
   "outputs": [],
   "source": []
  },
  {
   "cell_type": "code",
   "execution_count": null,
   "metadata": {},
   "outputs": [],
   "source": [
    "# adjust galvo for 1 mirror\n",
    "# view with 1 mirror.\n",
    "VSG2['home offset voltage']= 4\n",
    "gohome(VSG2)\n",
    "VSG1['home offset voltage']= 0# -4.06\n",
    "gohome(VSG1)\n",
    "\n",
    "for dv in [-4.17,-7.]:\n",
    "    VSG1['home offset voltage']= -4.17# -4.06\n",
    "    gohome(VSG1)\n"
   ]
  },
  {
   "cell_type": "code",
   "execution_count": null,
   "metadata": {},
   "outputs": [],
   "source": []
  },
  {
   "cell_type": "code",
   "execution_count": null,
   "metadata": {},
   "outputs": [],
   "source": []
  },
  {
   "cell_type": "code",
   "execution_count": 29,
   "metadata": {},
   "outputs": [
    {
     "ename": "KeyboardInterrupt",
     "evalue": "",
     "output_type": "error",
     "traceback": [
      "\u001b[1;31m---------------------------------------------------------------------------\u001b[0m",
      "\u001b[1;31mKeyboardInterrupt\u001b[0m                         Traceback (most recent call last)",
      "Input \u001b[1;32mIn [29]\u001b[0m, in \u001b[0;36m<cell line: 1>\u001b[1;34m()\u001b[0m\n\u001b[0;32m      6\u001b[0m SG[\u001b[38;5;124m'\u001b[39m\u001b[38;5;124mhome voltage\u001b[39m\u001b[38;5;124m'\u001b[39m] \u001b[38;5;241m=\u001b[39m \u001b[38;5;241m2\u001b[39m\n\u001b[0;32m      7\u001b[0m gohome(SG)\n\u001b[1;32m----> 8\u001b[0m \u001b[43msleep\u001b[49m\u001b[43m(\u001b[49m\u001b[38;5;241;43m1\u001b[39;49m\u001b[43m)\u001b[49m\n",
      "\u001b[1;31mKeyboardInterrupt\u001b[0m: "
     ]
    }
   ],
   "source": [
    "for _ in np.arange(100):\n",
    "    SG['home voltage'] = 0\n",
    "    gohome(SG)\n",
    "    gohome(SG)\n",
    "    SG['home voltage'] = 0.2\n",
    "    gohome(SG)\n",
    "    SG['home voltage'] = 2\n",
    "\n",
    "\n",
    "    "
   ]
  },
  {
   "cell_type": "code",
   "execution_count": 30,
   "metadata": {},
   "outputs": [],
   "source": [
    "for i in np.arange(0,2,0.01):\n",
    "    SG['home voltage'] = i\n",
    "    gohome(SG)\n"
   ]
  },
  {
   "cell_type": "code",
   "execution_count": 11,
   "metadata": {},
   "outputs": [
    {
     "data": {
      "text/plain": [
       "2.5157232704402515"
      ]
     },
     "execution_count": 11,
     "metadata": {},
     "output_type": "execute_result"
    }
   ],
   "source": [
    "scanstep=400\n",
    "convert_ratio=159\n",
    "scanstep/2/convert_ratio*2\n"
   ]
  },
  {
   "cell_type": "markdown",
   "metadata": {},
   "source": [
    "#  Generate periodic control signal\n",
    "## Needs:\n",
    "1. timer\n",
    "2. counter\n",
    "3. define rates for the periodic control sequence.\n",
    "4. define # of samples within a period."
   ]
  },
  {
   "cell_type": "code",
   "execution_count": 6,
   "metadata": {},
   "outputs": [],
   "source": [
    "# try:\n",
    "# define an ao task to generate sin wave output.\n",
    "\n",
    "# make the trigger of this ao task to be a pulse train, which is the output of a counter\n",
    "\n",
    "# define a sampler, make it generate a pulse train, and use it as a trigger for the ao task.\n",
    "\n",
    "# because daq cards only allow for 1 task per type for AI/O, \n",
    "# DI/O tasks if hardware timing is used. so these functions only \"configures\" the tasks, \n",
    "# they dont create and close tasks.\n",
    "\n",
    "def launch_sampler(param, task):\n",
    "    # try to make a pulse train as the sampling function for the ao\n",
    "    task.co_channels.add_co_pulse_chan_freq(param['channel_string_I'],\n",
    "                                                       idle_state=nidaqmx.constants.Level.LOW,\n",
    "                                                       freq=param['sampling_rate'])\n",
    "    if sampler['sample_mode'] == 'Finite':\n",
    "        m=nidaqmx.constants.AcquisitionType.FINITE\n",
    "\n",
    "    if sampler['sample_mode'] == 'Continuous':\n",
    "        m=nidaqmx.constants.AcquisitionType.CONTINUOUS\n",
    "\n",
    "    task.timing.cfg_implicit_timing(sample_mode=m,\n",
    "                                    samps_per_chan=param['num_sample'])\n",
    "\n",
    "    task.triggers.start_trigger.cfg_dig_edge_start_trig(trigger_source = param['trigger_source'],\n",
    "                                                        trigger_edge = nidaqmx.constants.Slope.RISING)\n",
    "\n",
    "    task.triggers.start_trigger.retriggerable = True\n",
    "    \n",
    "# and make a switch method [daq-tools].\n",
    "def launch_switch(param, task, status='on'):\n",
    "    \"it has to be a digital channel.\"\n",
    "    task.do_channels.add_do_chan(param['channel_string'])\n",
    "    if status == 'on':\n",
    "        task.write([True], auto_start=True)\n",
    "    else:\n",
    "        task.write([False], auto_start=True)\n",
    "\n",
    "def reset_switch(switch_task, status='on'):\n",
    "    if status == 'on':\n",
    "        task.write([False], auto_start=True)\n",
    "        task.write([True], auto_start=True)\n",
    "    else:\n",
    "        task.write([True], auto_start=True)\n",
    "        task.write([False], auto_start=True)\n"
   ]
  },
  {
   "cell_type": "markdown",
   "metadata": {},
   "source": [
    "# Prepare parameters"
   ]
  },
  {
   "cell_type": "code",
   "execution_count": 43,
   "metadata": {},
   "outputs": [],
   "source": [
    "# define parameters of a swtich to be used as a trigger. (interface.)\n",
    "# define parameters\n",
    "sample_n=300\n",
    "x=np.linspace(0,np.pi*2,sample_n*5)\n",
    "y=np.sin(x)\n",
    "\n",
    "sw = {} # switcher parameters\n",
    "sw['instrument_name'] = \"DaXi\"\n",
    "sw['channel I/O type'] = \"DO\"  #\n",
    "sw['channel_string'] = \"cDAQ1DIO/port0/line3\"  # name of the DAQ channel that will be used to control the device, choose one.\n",
    "sw['controlled_device_name'] = \"switch\"  # name of the deviced to be controlled. (like a switch button.)\n",
    "sw['purpose'] = \"this serves as a power switch to turn something on/off\"  # purpose of this device.\n",
    "sw['verbose'] = True  # when True, status messages will be printed.\n",
    "\n",
    "# define sampler parameters that generates a pulsed train from an internal counter.\n",
    "sampler={}\n",
    "sampler['instrument_name'] = \"DaXi\"\n",
    "sampler['channel I/O type'] = \"Counter\"  \n",
    "sampler['channel_string_I'] = \"cDAQ1/_ctr0\"  \n",
    "sampler['channel_string_O'] = \"/cDAQ1/Ctr0InternalOutput\"  \n",
    "sampler['controlled_device_name'] = \"sampler\"  \n",
    "sampler['purpose'] = \"to configure a counter to generate a pulse train\" \n",
    "sampler['verbose'] = True  \n",
    "sampler['sampling_rate'] = sample_n\n",
    "sampler['sample_mode'] = 'Finite' # specify Finite or Continuous\n",
    "sampler['num_sample'] = sample_n\n",
    "sampler['trigger_source'] = \"/cDAQ1/PFI0\" #sw['channel_string']\n",
    "\n",
    "# define ao scan parameters \n",
    "ao_scan = {}\n",
    "ao_scan['instrument_name'] = \"DaXi\"\n",
    "ao_scan['channel I/O type'] = \"AO\"\n",
    "ao_scan['sampler_channel_str'] = sampler['channel_string_O']\n",
    "ao_scan['controlled_device_name'] = \"a scanner\"\n",
    "ao_scan['ao_profile'] = list(y)\n",
    "\n",
    "def get_vtrain_sine(sample_n):\n",
    "    x=np.linspace(0,np.pi*2,sample_n)\n",
    "    y=np.sine(x)\n",
    "\n"
   ]
  },
  {
   "cell_type": "markdown",
   "metadata": {},
   "source": [
    "# Pre-launch tasks"
   ]
  },
  {
   "cell_type": "code",
   "execution_count": 10,
   "metadata": {},
   "outputs": [],
   "source": [
    "sampler_task = nidaqmx.Task()\n",
    "launch_sampler(sampler, task=sampler_task)\n",
    "\n",
    "switch_task=nidaqmx.Task()\n",
    "launch_switch(status='on', param=sw, task=switch_task)"
   ]
  },
  {
   "cell_type": "markdown",
   "metadata": {},
   "source": [
    "# Launch tasks"
   ]
  },
  {
   "cell_type": "code",
   "execution_count": 11,
   "metadata": {},
   "outputs": [],
   "source": [
    "sampler_task.start()"
   ]
  },
  {
   "cell_type": "markdown",
   "metadata": {},
   "source": [
    "# Trigger tasks\n"
   ]
  },
  {
   "cell_type": "code",
   "execution_count": 27,
   "metadata": {
    "collapsed": true
   },
   "outputs": [
    {
     "name": "stderr",
     "output_type": "stream",
     "text": [
      "C:\\Users\\PiscesScope\\.conda\\envs\\coPylot\\lib\\site-packages\\nidaqmx\\task.py:102: ResourceWarning: Task of name \"_unnamedTask<6>\" was not explicitly closed before it was destructed. Resources on the task device may still be reserved.\n",
      "  warnings.warn(\n"
     ]
    },
    {
     "ename": "DaqError",
     "evalue": "Specified channel cannot be added to the task, because a channel with the same name is already in the task.\nChannel Name: cDAQ1DIO/port0/line3\n\nTask Name: _unnamedTask<2>\n\nStatus Code: -200489",
     "output_type": "error",
     "traceback": [
      "\u001b[1;31m---------------------------------------------------------------------------\u001b[0m",
      "\u001b[1;31mDaqError\u001b[0m                                  Traceback (most recent call last)",
      "Input \u001b[1;32mIn [27]\u001b[0m, in \u001b[0;36m<cell line: 3>\u001b[1;34m()\u001b[0m\n\u001b[0;32m      1\u001b[0m \u001b[38;5;66;03m# setup the scanners.\u001b[39;00m\n\u001b[0;32m      2\u001b[0m switch_task\u001b[38;5;241m=\u001b[39mnidaqmx\u001b[38;5;241m.\u001b[39mTask()\n\u001b[1;32m----> 3\u001b[0m \u001b[43mlaunch_switch\u001b[49m\u001b[43m(\u001b[49m\u001b[43mstatus\u001b[49m\u001b[38;5;241;43m=\u001b[39;49m\u001b[38;5;124;43m'\u001b[39;49m\u001b[38;5;124;43mon\u001b[39;49m\u001b[38;5;124;43m'\u001b[39;49m\u001b[43m,\u001b[49m\u001b[43m \u001b[49m\u001b[43mparam\u001b[49m\u001b[38;5;241;43m=\u001b[39;49m\u001b[43msw\u001b[49m\u001b[43m,\u001b[49m\u001b[43m \u001b[49m\u001b[43mswitch_task\u001b[49m\u001b[38;5;241;43m=\u001b[39;49m\u001b[43mswitch_task\u001b[49m\u001b[43m)\u001b[49m\n\u001b[0;32m      4\u001b[0m reset_switch(status\u001b[38;5;241m=\u001b[39m\u001b[38;5;124m'\u001b[39m\u001b[38;5;124mon\u001b[39m\u001b[38;5;124m'\u001b[39m, switch_task\u001b[38;5;241m=\u001b[39mswitch_task)\n",
      "Input \u001b[1;32mIn [25]\u001b[0m, in \u001b[0;36mlaunch_switch\u001b[1;34m(param, switch_task, status)\u001b[0m\n\u001b[0;32m     29\u001b[0m \u001b[38;5;28;01mdef\u001b[39;00m \u001b[38;5;21mlaunch_switch\u001b[39m(param, switch_task, status\u001b[38;5;241m=\u001b[39m\u001b[38;5;124m'\u001b[39m\u001b[38;5;124mon\u001b[39m\u001b[38;5;124m'\u001b[39m):\n\u001b[0;32m     30\u001b[0m     \u001b[38;5;124m\"\u001b[39m\u001b[38;5;124mit has to be a digital channel.\u001b[39m\u001b[38;5;124m\"\u001b[39m\n\u001b[1;32m---> 31\u001b[0m     \u001b[43mswtich_task\u001b[49m\u001b[38;5;241;43m.\u001b[39;49m\u001b[43mdo_channels\u001b[49m\u001b[38;5;241;43m.\u001b[39;49m\u001b[43madd_do_chan\u001b[49m\u001b[43m(\u001b[49m\u001b[43mparam\u001b[49m\u001b[43m[\u001b[49m\u001b[38;5;124;43m'\u001b[39;49m\u001b[38;5;124;43mchannel_string\u001b[39;49m\u001b[38;5;124;43m'\u001b[39;49m\u001b[43m]\u001b[49m\u001b[43m)\u001b[49m\n\u001b[0;32m     32\u001b[0m     \u001b[38;5;28;01mif\u001b[39;00m status \u001b[38;5;241m==\u001b[39m \u001b[38;5;124m'\u001b[39m\u001b[38;5;124mon\u001b[39m\u001b[38;5;124m'\u001b[39m:\n\u001b[0;32m     33\u001b[0m         swtich_task\u001b[38;5;241m.\u001b[39mwrite([\u001b[38;5;28;01mTrue\u001b[39;00m], auto_start\u001b[38;5;241m=\u001b[39m\u001b[38;5;28;01mTrue\u001b[39;00m)\n",
      "File \u001b[1;32m~\\.conda\\envs\\coPylot\\lib\\site-packages\\nidaqmx\\_task_modules\\do_channel_collection.py:103\u001b[0m, in \u001b[0;36mDOChannelCollection.add_do_chan\u001b[1;34m(self, lines, name_to_assign_to_lines, line_grouping)\u001b[0m\n\u001b[0;32m     97\u001b[0m             cfunc\u001b[38;5;241m.\u001b[39margtypes \u001b[38;5;241m=\u001b[39m [\n\u001b[0;32m     98\u001b[0m                 lib_importer\u001b[38;5;241m.\u001b[39mtask_handle, ctypes_byte_str,\n\u001b[0;32m     99\u001b[0m                 ctypes_byte_str, ctypes\u001b[38;5;241m.\u001b[39mc_int]\n\u001b[0;32m    101\u001b[0m error_code \u001b[38;5;241m=\u001b[39m cfunc(\n\u001b[0;32m    102\u001b[0m     \u001b[38;5;28mself\u001b[39m\u001b[38;5;241m.\u001b[39m_handle, lines, name_to_assign_to_lines, line_grouping\u001b[38;5;241m.\u001b[39mvalue)\n\u001b[1;32m--> 103\u001b[0m \u001b[43mcheck_for_error\u001b[49m\u001b[43m(\u001b[49m\u001b[43merror_code\u001b[49m\u001b[43m)\u001b[49m\n\u001b[0;32m    105\u001b[0m \u001b[38;5;28;01mreturn\u001b[39;00m \u001b[38;5;28mself\u001b[39m\u001b[38;5;241m.\u001b[39m_create_chan(lines, line_grouping, name_to_assign_to_lines)\n",
      "File \u001b[1;32m~\\.conda\\envs\\coPylot\\lib\\site-packages\\nidaqmx\\errors.py:127\u001b[0m, in \u001b[0;36mcheck_for_error\u001b[1;34m(error_code)\u001b[0m\n\u001b[0;32m    124\u001b[0m                 cfunc\u001b[38;5;241m.\u001b[39margtypes \u001b[38;5;241m=\u001b[39m [ctypes\u001b[38;5;241m.\u001b[39mc_char_p, ctypes\u001b[38;5;241m.\u001b[39mc_uint]\n\u001b[0;32m    125\u001b[0m     cfunc(error_buffer, \u001b[38;5;241m2048\u001b[39m)\n\u001b[1;32m--> 127\u001b[0m     \u001b[38;5;28;01mraise\u001b[39;00m DaqError(error_buffer\u001b[38;5;241m.\u001b[39mvalue\u001b[38;5;241m.\u001b[39mdecode(\u001b[38;5;124m\"\u001b[39m\u001b[38;5;124mutf-8\u001b[39m\u001b[38;5;124m\"\u001b[39m), error_code)\n\u001b[0;32m    129\u001b[0m \u001b[38;5;28;01melif\u001b[39;00m error_code \u001b[38;5;241m>\u001b[39m \u001b[38;5;241m0\u001b[39m:\n\u001b[0;32m    130\u001b[0m     error_buffer \u001b[38;5;241m=\u001b[39m ctypes\u001b[38;5;241m.\u001b[39mcreate_string_buffer(\u001b[38;5;241m2048\u001b[39m)\n",
      "\u001b[1;31mDaqError\u001b[0m: Specified channel cannot be added to the task, because a channel with the same name is already in the task.\nChannel Name: cDAQ1DIO/port0/line3\n\nTask Name: _unnamedTask<2>\n\nStatus Code: -200489"
     ]
    }
   ],
   "source": [
    "# setup the scanners.\n",
    "\n",
    "reset_switch(status='on', switch_task=switch_task)"
   ]
  },
  {
   "cell_type": "markdown",
   "metadata": {},
   "source": [
    "# Close tasks"
   ]
  },
  {
   "cell_type": "code",
   "execution_count": 12,
   "metadata": {},
   "outputs": [],
   "source": [
    "sampler_task.close()\n",
    "switch_task.close()"
   ]
  },
  {
   "cell_type": "code",
   "execution_count": 31,
   "metadata": {},
   "outputs": [],
   "source": [
    "reset_switch(status='off', switch_task=switch_task)"
   ]
  },
  {
   "cell_type": "code",
   "execution_count": 8,
   "metadata": {},
   "outputs": [],
   "source": [
    "action_params=ao_scan\n",
    "device_params=SG\n",
    "\n",
    "task_ao_scanner = nidaqmx.Task()\n",
    "task_ao_scanner.ao_channels.add_ao_voltage_chan(device_params['channel_string'])  # scanning galvo\n",
    "task_ao_scanner.timing.cfg_samp_clk_timing(rate=sample_n,\n",
    "                                   source=action_params['sampler_channel_str'],\n",
    "                                   sample_mode=nidaqmx.constants.AcquisitionType.CONTINUOUS)\n",
    "task_ao_scanner.write(action_params['ao_profile'])\n",
    "task_ao_scanner.start()"
   ]
  },
  {
   "cell_type": "code",
   "execution_count": 15,
   "metadata": {},
   "outputs": [],
   "source": [
    "task_ao_scanner.stop()\n",
    "task_ao_scanner.close()"
   ]
  },
  {
   "cell_type": "code",
   "execution_count": 48,
   "metadata": {},
   "outputs": [
    {
     "name": "stdout",
     "output_type": "stream",
     "text": [
      "Now setting [scanning galvo] to the home position [voltage = 0v] with [offset = 0v,False] through channel ['cDAQ1AO/ao0']\n",
      "Task perfromed successfully.\n",
      "Task closed.\n"
     ]
    }
   ],
   "source": [
    "gohome(SG)"
   ]
  },
  {
   "cell_type": "code",
   "execution_count": null,
   "metadata": {},
   "outputs": [],
   "source": [
    "# setup a counter task to pair with the controller task.\n",
    "#? what does counter do?\n",
    "counter = nidaqmx.Task(\"counter0\")\n",
    "counter.close()"
   ]
  },
  {
   "cell_type": "code",
   "execution_count": 51,
   "metadata": {},
   "outputs": [
    {
     "name": "stderr",
     "output_type": "stream",
     "text": [
      "C:\\Users\\PiscesScope\\.conda\\envs\\coPylot\\lib\\site-packages\\nidaqmx\\task.py:457: ResourceWarning: Attempted to close NI-DAQmx task of name \"counter0\" but task was already closed.\n",
      "  warnings.warn(\n"
     ]
    }
   ],
   "source": [
    "counter.close()\n",
    "task.close()"
   ]
  },
  {
   "cell_type": "code",
   "execution_count": null,
   "metadata": {},
   "outputs": [],
   "source": []
  },
  {
   "cell_type": "code",
   "execution_count": null,
   "metadata": {},
   "outputs": [],
   "source": [
    "    with nidaqmx.Task() as task:\n",
    "        task.ao_channels.add_ao_voltage_chan(ch)\n",
    "        task.write([value], auto_start=True)"
   ]
  },
  {
   "cell_type": "code",
   "execution_count": null,
   "metadata": {},
   "outputs": [],
   "source": []
  },
  {
   "cell_type": "code",
   "execution_count": null,
   "metadata": {},
   "outputs": [],
   "source": []
  },
  {
   "cell_type": "code",
   "execution_count": 62,
   "metadata": {},
   "outputs": [],
   "source": [
    "time.sleep(2)"
   ]
  },
  {
   "cell_type": "code",
   "execution_count": 38,
   "metadata": {},
   "outputs": [
    {
     "data": {
      "text/plain": [
       "32"
      ]
     },
     "execution_count": 38,
     "metadata": {},
     "output_type": "execute_result"
    }
   ],
   "source": [
    "def view_switching_galvo1(channel=\"cDAQ1AO/ao1\", voltage=4.2):\n",
    "    # create task to set the channel to the desired voltage.\n",
    "    \n",
    "    \n",
    "    \n",
    "    "
   ]
  },
  {
   "cell_type": "code",
   "execution_count": 18,
   "metadata": {},
   "outputs": [
    {
     "name": "stdout",
     "output_type": "stream",
     "text": [
      "['cDAQ1DIO/ctr0', 'cDAQ1DIO/ctr1', 'cDAQ1DIO/ctr2', 'cDAQ1DIO/ctr3']\n"
     ]
    }
   ],
   "source": [
    "counter_names = [ci.name for ci in DAQ_device.ci_physical_chans]\n",
    "print(counter_names)"
   ]
  },
  {
   "cell_type": "code",
   "execution_count": 19,
   "metadata": {},
   "outputs": [
    {
     "name": "stdout",
     "output_type": "stream",
     "text": [
      "['cDAQ1DIO/ctr0', 'cDAQ1DIO/ctr1', 'cDAQ1DIO/ctr2', 'cDAQ1DIO/ctr3', 'cDAQ1DIO/freqout']\n"
     ]
    }
   ],
   "source": [
    "print([co.name for co in DAQ_device.co_physical_chans])"
   ]
  },
  {
   "cell_type": "code",
   "execution_count": 22,
   "metadata": {},
   "outputs": [
    {
     "data": {
      "text/plain": [
       "32"
      ]
     },
     "execution_count": 22,
     "metadata": {},
     "output_type": "execute_result"
    }
   ],
   "source": [
    "DAQ_device.co_max_size"
   ]
  },
  {
   "cell_type": "code",
   "execution_count": 26,
   "metadata": {},
   "outputs": [
    {
     "data": {
      "text/plain": [
       "['cDAQ1DIO/port0/line0',\n",
       " 'cDAQ1DIO/port0/line1',\n",
       " 'cDAQ1DIO/port0/line2',\n",
       " 'cDAQ1DIO/port0/line3',\n",
       " 'cDAQ1DIO/port0/line4',\n",
       " 'cDAQ1DIO/port0/line5',\n",
       " 'cDAQ1DIO/port0/line6',\n",
       " 'cDAQ1DIO/port0/line7']"
      ]
     },
     "execution_count": 26,
     "metadata": {},
     "output_type": "execute_result"
    }
   ],
   "source": [
    "DAQ_device.di_lines.channel_names"
   ]
  },
  {
   "cell_type": "code",
   "execution_count": 27,
   "metadata": {},
   "outputs": [
    {
     "data": {
      "text/plain": [
       "['cDAQ1DIO/port0/line0',\n",
       " 'cDAQ1DIO/port0/line1',\n",
       " 'cDAQ1DIO/port0/line2',\n",
       " 'cDAQ1DIO/port0/line3',\n",
       " 'cDAQ1DIO/port0/line4',\n",
       " 'cDAQ1DIO/port0/line5',\n",
       " 'cDAQ1DIO/port0/line6',\n",
       " 'cDAQ1DIO/port0/line7']"
      ]
     },
     "execution_count": 27,
     "metadata": {},
     "output_type": "execute_result"
    }
   ],
   "source": [
    "DAQ_device.do_lines.channel_names"
   ]
  },
  {
   "cell_type": "code",
   "execution_count": 28,
   "metadata": {},
   "outputs": [
    {
     "data": {
      "text/plain": [
       "'cDAQ1DIO'"
      ]
     },
     "execution_count": 28,
     "metadata": {},
     "output_type": "execute_result"
    }
   ],
   "source": [
    "DAQ_device.name"
   ]
  },
  {
   "cell_type": "code",
   "execution_count": null,
   "metadata": {},
   "outputs": [],
   "source": []
  }
 ],
 "metadata": {
  "kernelspec": {
   "display_name": "sandbox1",
   "language": "python",
   "name": "sandbox1"
  },
  "language_info": {
   "codemirror_mode": {
    "name": "ipython",
    "version": 3
   },
   "file_extension": ".py",
   "mimetype": "text/x-python",
   "name": "python",
   "nbconvert_exporter": "python",
   "pygments_lexer": "ipython3",
   "version": "3.9.12"
  }
 },
 "nbformat": 4,
 "nbformat_minor": 2
}
